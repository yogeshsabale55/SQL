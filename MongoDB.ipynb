{
 "cells": [
  {
   "cell_type": "code",
   "execution_count": null,
   "id": "9a725c1a",
   "metadata": {},
   "outputs": [],
   "source": [
    "mysql:\n",
    "    \n",
    "relational database\n",
    "structured data in the form of tables/relations\n",
    "workbench/jupyter notebook\n",
    "SQL"
   ]
  },
  {
   "cell_type": "code",
   "execution_count": null,
   "id": "db7a4fbf",
   "metadata": {},
   "outputs": [],
   "source": [
    "mongoDB:\n",
    "    \n",
    "non-relational database\n",
    "unstructured data in the form of json files or dictionaries\n",
    "compass/jupyter notebook\n",
    "python"
   ]
  },
  {
   "cell_type": "code",
   "execution_count": null,
   "id": "7dc272bb",
   "metadata": {},
   "outputs": [],
   "source": [
    "emp: table\n",
    "    empid,empname,salary,loc ,contact -- columns\n",
    "    1001. rohit.   6000. pune null    -- row/dictionary\n",
    "    1002  neha.    5000  pune 1234\n",
    "    1003  niraj   '5000' pune \n",
    "    1004. akash.   7000  pune email/mob no\n",
    "    "
   ]
  },
  {
   "cell_type": "code",
   "execution_count": null,
   "id": "551e19c1",
   "metadata": {},
   "outputs": [],
   "source": [
    "{contact:{'email':value,'mobno':value}}"
   ]
  },
  {
   "cell_type": "code",
   "execution_count": 1,
   "id": "62811b13",
   "metadata": {},
   "outputs": [],
   "source": [
    "import pymongo\n",
    "import pandas as pd"
   ]
  },
  {
   "cell_type": "markdown",
   "id": "d96fcc30",
   "metadata": {},
   "source": [
    "### create connection"
   ]
  },
  {
   "cell_type": "code",
   "execution_count": 2,
   "id": "bc08a878",
   "metadata": {},
   "outputs": [
    {
     "data": {
      "text/plain": [
       "MongoClient(host=['localhost:27017'], document_class=dict, tz_aware=False, connect=True)"
      ]
     },
     "execution_count": 2,
     "metadata": {},
     "output_type": "execute_result"
    }
   ],
   "source": [
    "client=pymongo.MongoClient('mongodb://localhost:27017')\n",
    "client"
   ]
  },
  {
   "cell_type": "code",
   "execution_count": null,
   "id": "73880fcc",
   "metadata": {},
   "outputs": [],
   "source": [
    "databases >> database >> tables       >> rows        and columns\n",
    "databases >> database >> collections  >> document         keys"
   ]
  },
  {
   "cell_type": "markdown",
   "id": "dd63506d",
   "metadata": {},
   "source": [
    "### CRUD operations"
   ]
  },
  {
   "cell_type": "code",
   "execution_count": null,
   "id": "525dcaba",
   "metadata": {},
   "outputs": [],
   "source": [
    "1. create database\n",
    "2. create collection\n",
    "3. insert data (add document)\n",
    "4. read data\n",
    "5. update data\n",
    "6. delete data"
   ]
  },
  {
   "cell_type": "markdown",
   "id": "a88d779e",
   "metadata": {},
   "source": [
    "### 1. create database"
   ]
  },
  {
   "cell_type": "code",
   "execution_count": 27,
   "id": "4f263154",
   "metadata": {},
   "outputs": [
    {
     "data": {
      "text/plain": [
       "Database(MongoClient(host=['localhost:27017'], document_class=dict, tz_aware=False, connect=True), 'college')"
      ]
     },
     "execution_count": 27,
     "metadata": {},
     "output_type": "execute_result"
    }
   ],
   "source": [
    "db=client['college']\n",
    "db"
   ]
  },
  {
   "cell_type": "code",
   "execution_count": 4,
   "id": "0e191165",
   "metadata": {},
   "outputs": [
    {
     "data": {
      "text/plain": [
       "['admin', 'company', 'config', 'local', 'org']"
      ]
     },
     "execution_count": 4,
     "metadata": {},
     "output_type": "execute_result"
    }
   ],
   "source": [
    "client.list_database_names()"
   ]
  },
  {
   "cell_type": "markdown",
   "id": "d702af91",
   "metadata": {},
   "source": [
    "### 2. create collection"
   ]
  },
  {
   "cell_type": "code",
   "execution_count": 28,
   "id": "8a7baaf2",
   "metadata": {},
   "outputs": [
    {
     "data": {
      "text/plain": [
       "Collection(Database(MongoClient(host=['localhost:27017'], document_class=dict, tz_aware=False, connect=True), 'college'), 'student')"
      ]
     },
     "execution_count": 28,
     "metadata": {},
     "output_type": "execute_result"
    }
   ],
   "source": [
    "coll=db['student']\n",
    "coll"
   ]
  },
  {
   "cell_type": "code",
   "execution_count": 6,
   "id": "2ff46789",
   "metadata": {},
   "outputs": [
    {
     "data": {
      "text/plain": [
       "[]"
      ]
     },
     "execution_count": 6,
     "metadata": {},
     "output_type": "execute_result"
    }
   ],
   "source": [
    "db.list_collection_names()"
   ]
  },
  {
   "cell_type": "markdown",
   "id": "ff24a62b",
   "metadata": {},
   "source": [
    "### 3. insert data"
   ]
  },
  {
   "cell_type": "code",
   "execution_count": null,
   "id": "f0edb42e",
   "metadata": {},
   "outputs": [],
   "source": [
    "insert_one() : used to insert a single document\n",
    "insert_many(): used to insert multiple documents"
   ]
  },
  {
   "cell_type": "markdown",
   "id": "397964ac",
   "metadata": {},
   "source": [
    "#### 1. insert_one()"
   ]
  },
  {
   "cell_type": "code",
   "execution_count": null,
   "id": "7922a29e",
   "metadata": {},
   "outputs": [],
   "source": [
    "collection_name.insert_one({key:value})"
   ]
  },
  {
   "cell_type": "code",
   "execution_count": 29,
   "id": "84c4213d",
   "metadata": {},
   "outputs": [
    {
     "data": {
      "text/plain": [
       "<pymongo.results.InsertOneResult at 0x103b7c9d0>"
      ]
     },
     "execution_count": 29,
     "metadata": {},
     "output_type": "execute_result"
    }
   ],
   "source": [
    "coll.insert_one({'rollno':101,'stud_name':'rohit','gender':'m','loc':'pune'})"
   ]
  },
  {
   "cell_type": "code",
   "execution_count": 8,
   "id": "ad36af1f",
   "metadata": {},
   "outputs": [
    {
     "data": {
      "text/plain": [
       "['admin', 'college', 'company', 'config', 'local', 'org']"
      ]
     },
     "execution_count": 8,
     "metadata": {},
     "output_type": "execute_result"
    }
   ],
   "source": [
    "client.list_database_names()"
   ]
  },
  {
   "cell_type": "code",
   "execution_count": 9,
   "id": "5da0b386",
   "metadata": {},
   "outputs": [
    {
     "data": {
      "text/plain": [
       "['student']"
      ]
     },
     "execution_count": 9,
     "metadata": {},
     "output_type": "execute_result"
    }
   ],
   "source": [
    "db.list_collection_names()"
   ]
  },
  {
   "cell_type": "code",
   "execution_count": 30,
   "id": "1690f10a",
   "metadata": {},
   "outputs": [
    {
     "data": {
      "text/plain": [
       "<pymongo.results.InsertOneResult at 0x103b7d7e0>"
      ]
     },
     "execution_count": 30,
     "metadata": {},
     "output_type": "execute_result"
    }
   ],
   "source": [
    "coll.insert_one({'rollno':102,'stud_name':'ronita','gender':'f','loc':'mumbai'})"
   ]
  },
  {
   "cell_type": "code",
   "execution_count": 31,
   "id": "7b5b54b5",
   "metadata": {},
   "outputs": [
    {
     "data": {
      "text/plain": [
       "<pymongo.results.InsertOneResult at 0x1200ba9b0>"
      ]
     },
     "execution_count": 31,
     "metadata": {},
     "output_type": "execute_result"
    }
   ],
   "source": [
    "coll.insert_one({'rollno':103,'stud_name':'nita','gender':'f'})"
   ]
  },
  {
   "cell_type": "code",
   "execution_count": 12,
   "id": "e2f7d566",
   "metadata": {},
   "outputs": [
    {
     "data": {
      "text/plain": [
       "<pymongo.results.InsertOneResult at 0x107cd67d0>"
      ]
     },
     "execution_count": 12,
     "metadata": {},
     "output_type": "execute_result"
    }
   ],
   "source": [
    "coll.insert_one({'rollno':104,'stud_name':'dhiraj','gender':'m','contact':1234})"
   ]
  },
  {
   "cell_type": "code",
   "execution_count": 13,
   "id": "1ea8a74f",
   "metadata": {},
   "outputs": [
    {
     "data": {
      "text/plain": [
       "<pymongo.results.InsertOneResult at 0x1165e0250>"
      ]
     },
     "execution_count": 13,
     "metadata": {},
     "output_type": "execute_result"
    }
   ],
   "source": [
    "coll.insert_one({'rollno':105,'stud_name':'akash','gender':'m',\n",
    "                 'contact':{'email':'akash@gmail.com','mobno':1234}})"
   ]
  },
  {
   "cell_type": "markdown",
   "id": "ea0a2e7b",
   "metadata": {},
   "source": [
    "#### 2.insert_many()"
   ]
  },
  {
   "cell_type": "code",
   "execution_count": null,
   "id": "b744e046",
   "metadata": {},
   "outputs": [],
   "source": [
    "collection_name.insert_many([{},{},{}])"
   ]
  },
  {
   "cell_type": "code",
   "execution_count": 32,
   "id": "76de6e13",
   "metadata": {},
   "outputs": [
    {
     "data": {
      "text/plain": [
       "<pymongo.results.InsertManyResult at 0x1200b9750>"
      ]
     },
     "execution_count": 32,
     "metadata": {},
     "output_type": "execute_result"
    }
   ],
   "source": [
    "coll.insert_many([{'rollno':106,'stud_name':'veena'},\n",
    "                {'rollno':107,'stud_name':'pooja','loc':'mumbai'}])"
   ]
  },
  {
   "cell_type": "markdown",
   "id": "f754c8a0",
   "metadata": {},
   "source": [
    "### read data"
   ]
  },
  {
   "cell_type": "code",
   "execution_count": null,
   "id": "d2728354",
   "metadata": {},
   "outputs": [],
   "source": [
    "find_one(): returns a single document\n",
    "find()    : returns multiple documents"
   ]
  },
  {
   "cell_type": "markdown",
   "id": "0414ca3d",
   "metadata": {},
   "source": [
    "#### 1. find_one()"
   ]
  },
  {
   "cell_type": "code",
   "execution_count": null,
   "id": "270d28f2",
   "metadata": {},
   "outputs": [],
   "source": [
    "collection_name.find_one({filter condition},{select})\n",
    "without filter condition: returns the first document of the collection\n",
    "with filter condition   : returns the first matched document"
   ]
  },
  {
   "cell_type": "code",
   "execution_count": 15,
   "id": "bb8095d5",
   "metadata": {},
   "outputs": [
    {
     "data": {
      "text/plain": [
       "{'_id': ObjectId('6543bf002c950f9acfc52d29'),\n",
       " 'rollno': 101,\n",
       " 'stud_name': 'rohit',\n",
       " 'gender': 'm',\n",
       " 'loc': 'pune'}"
      ]
     },
     "execution_count": 15,
     "metadata": {},
     "output_type": "execute_result"
    }
   ],
   "source": [
    "coll.find_one({})"
   ]
  },
  {
   "cell_type": "code",
   "execution_count": 16,
   "id": "bad9b889",
   "metadata": {},
   "outputs": [
    {
     "data": {
      "text/plain": [
       "{'rollno': 101, 'stud_name': 'rohit', 'gender': 'm', 'loc': 'pune'}"
      ]
     },
     "execution_count": 16,
     "metadata": {},
     "output_type": "execute_result"
    }
   ],
   "source": [
    "coll.find_one({},{'_id':0})"
   ]
  },
  {
   "cell_type": "code",
   "execution_count": 17,
   "id": "56b7d3d6",
   "metadata": {},
   "outputs": [
    {
     "data": {
      "text/plain": [
       "{'rollno': 101, 'stud_name': 'rohit', 'gender': 'm'}"
      ]
     },
     "execution_count": 17,
     "metadata": {},
     "output_type": "execute_result"
    }
   ],
   "source": [
    "coll.find_one({},{'_id':0,'loc':0})"
   ]
  },
  {
   "cell_type": "code",
   "execution_count": 18,
   "id": "c09f9b01",
   "metadata": {},
   "outputs": [
    {
     "data": {
      "text/plain": [
       "{'loc': 'pune'}"
      ]
     },
     "execution_count": 18,
     "metadata": {},
     "output_type": "execute_result"
    }
   ],
   "source": [
    "coll.find_one({},{'_id':0,'loc':1})"
   ]
  },
  {
   "cell_type": "code",
   "execution_count": 5,
   "id": "fa4316fb",
   "metadata": {},
   "outputs": [
    {
     "data": {
      "text/plain": [
       "{'loc': 'chennai'}"
      ]
     },
     "execution_count": 5,
     "metadata": {},
     "output_type": "execute_result"
    }
   ],
   "source": [
    "coll.find_one({},{'loc':1,'_id':0})"
   ]
  },
  {
   "cell_type": "code",
   "execution_count": 21,
   "id": "a6424010",
   "metadata": {},
   "outputs": [
    {
     "ename": "OperationFailure",
     "evalue": "Cannot do exclusion on field rollno in inclusion projection, full error: {'ok': 0.0, 'errmsg': 'Cannot do exclusion on field rollno in inclusion projection', 'code': 31254, 'codeName': 'Location31254'}",
     "output_type": "error",
     "traceback": [
      "\u001b[0;31m---------------------------------------------------------------------------\u001b[0m",
      "\u001b[0;31mOperationFailure\u001b[0m                          Traceback (most recent call last)",
      "Input \u001b[0;32mIn [21]\u001b[0m, in \u001b[0;36m<cell line: 1>\u001b[0;34m()\u001b[0m\n\u001b[0;32m----> 1\u001b[0m \u001b[43mcoll\u001b[49m\u001b[38;5;241;43m.\u001b[39;49m\u001b[43mfind_one\u001b[49m\u001b[43m(\u001b[49m\u001b[43m{\u001b[49m\u001b[43m}\u001b[49m\u001b[43m,\u001b[49m\u001b[43m{\u001b[49m\u001b[38;5;124;43m'\u001b[39;49m\u001b[38;5;124;43mloc\u001b[39;49m\u001b[38;5;124;43m'\u001b[39;49m\u001b[43m:\u001b[49m\u001b[38;5;241;43m1\u001b[39;49m\u001b[43m,\u001b[49m\u001b[38;5;124;43m'\u001b[39;49m\u001b[38;5;124;43mrollno\u001b[39;49m\u001b[38;5;124;43m'\u001b[39;49m\u001b[43m:\u001b[49m\u001b[38;5;241;43m0\u001b[39;49m\u001b[43m,\u001b[49m\u001b[38;5;124;43m'\u001b[39;49m\u001b[38;5;124;43m_id\u001b[39;49m\u001b[38;5;124;43m'\u001b[39;49m\u001b[43m:\u001b[49m\u001b[38;5;241;43m0\u001b[39;49m\u001b[43m}\u001b[49m\u001b[43m)\u001b[49m\n",
      "File \u001b[0;32m/Library/Frameworks/Python.framework/Versions/3.10/lib/python3.10/site-packages/pymongo/collection.py:1419\u001b[0m, in \u001b[0;36mCollection.find_one\u001b[0;34m(self, filter, *args, **kwargs)\u001b[0m\n\u001b[1;32m   1417\u001b[0m     \u001b[38;5;28mfilter\u001b[39m \u001b[38;5;241m=\u001b[39m {\u001b[38;5;124m\"\u001b[39m\u001b[38;5;124m_id\u001b[39m\u001b[38;5;124m\"\u001b[39m: \u001b[38;5;28mfilter\u001b[39m}\n\u001b[1;32m   1418\u001b[0m cursor \u001b[38;5;241m=\u001b[39m \u001b[38;5;28mself\u001b[39m\u001b[38;5;241m.\u001b[39mfind(\u001b[38;5;28mfilter\u001b[39m, \u001b[38;5;241m*\u001b[39margs, \u001b[38;5;241m*\u001b[39m\u001b[38;5;241m*\u001b[39mkwargs)\n\u001b[0;32m-> 1419\u001b[0m \u001b[38;5;28;01mfor\u001b[39;00m result \u001b[38;5;129;01min\u001b[39;00m cursor\u001b[38;5;241m.\u001b[39mlimit(\u001b[38;5;241m-\u001b[39m\u001b[38;5;241m1\u001b[39m):\n\u001b[1;32m   1420\u001b[0m     \u001b[38;5;28;01mreturn\u001b[39;00m result\n\u001b[1;32m   1421\u001b[0m \u001b[38;5;28;01mreturn\u001b[39;00m \u001b[38;5;28;01mNone\u001b[39;00m\n",
      "File \u001b[0;32m/Library/Frameworks/Python.framework/Versions/3.10/lib/python3.10/site-packages/pymongo/cursor.py:1248\u001b[0m, in \u001b[0;36mCursor.next\u001b[0;34m(self)\u001b[0m\n\u001b[1;32m   1246\u001b[0m \u001b[38;5;28;01mif\u001b[39;00m \u001b[38;5;28mself\u001b[39m\u001b[38;5;241m.\u001b[39m__empty:\n\u001b[1;32m   1247\u001b[0m     \u001b[38;5;28;01mraise\u001b[39;00m \u001b[38;5;167;01mStopIteration\u001b[39;00m\n\u001b[0;32m-> 1248\u001b[0m \u001b[38;5;28;01mif\u001b[39;00m \u001b[38;5;28mlen\u001b[39m(\u001b[38;5;28mself\u001b[39m\u001b[38;5;241m.\u001b[39m__data) \u001b[38;5;129;01mor\u001b[39;00m \u001b[38;5;28;43mself\u001b[39;49m\u001b[38;5;241;43m.\u001b[39;49m\u001b[43m_refresh\u001b[49m\u001b[43m(\u001b[49m\u001b[43m)\u001b[49m:\n\u001b[1;32m   1249\u001b[0m     \u001b[38;5;28;01mreturn\u001b[39;00m \u001b[38;5;28mself\u001b[39m\u001b[38;5;241m.\u001b[39m__data\u001b[38;5;241m.\u001b[39mpopleft()\n\u001b[1;32m   1250\u001b[0m \u001b[38;5;28;01melse\u001b[39;00m:\n",
      "File \u001b[0;32m/Library/Frameworks/Python.framework/Versions/3.10/lib/python3.10/site-packages/pymongo/cursor.py:1165\u001b[0m, in \u001b[0;36mCursor._refresh\u001b[0;34m(self)\u001b[0m\n\u001b[1;32m   1143\u001b[0m         \u001b[38;5;28;01mraise\u001b[39;00m InvalidOperation(\n\u001b[1;32m   1144\u001b[0m             \u001b[38;5;124m\"\u001b[39m\u001b[38;5;124mPassing a \u001b[39m\u001b[38;5;124m'\u001b[39m\u001b[38;5;124mhint\u001b[39m\u001b[38;5;124m'\u001b[39m\u001b[38;5;124m is required when using the min/max query\u001b[39m\u001b[38;5;124m\"\u001b[39m\n\u001b[1;32m   1145\u001b[0m             \u001b[38;5;124m\"\u001b[39m\u001b[38;5;124m option to ensure the query utilizes the correct index\u001b[39m\u001b[38;5;124m\"\u001b[39m\n\u001b[1;32m   1146\u001b[0m         )\n\u001b[1;32m   1147\u001b[0m     q \u001b[38;5;241m=\u001b[39m \u001b[38;5;28mself\u001b[39m\u001b[38;5;241m.\u001b[39m_query_class(\n\u001b[1;32m   1148\u001b[0m         \u001b[38;5;28mself\u001b[39m\u001b[38;5;241m.\u001b[39m__query_flags,\n\u001b[1;32m   1149\u001b[0m         \u001b[38;5;28mself\u001b[39m\u001b[38;5;241m.\u001b[39m__collection\u001b[38;5;241m.\u001b[39mdatabase\u001b[38;5;241m.\u001b[39mname,\n\u001b[0;32m   (...)\u001b[0m\n\u001b[1;32m   1163\u001b[0m         \u001b[38;5;28mself\u001b[39m\u001b[38;5;241m.\u001b[39m__exhaust,\n\u001b[1;32m   1164\u001b[0m     )\n\u001b[0;32m-> 1165\u001b[0m     \u001b[38;5;28;43mself\u001b[39;49m\u001b[38;5;241;43m.\u001b[39;49m\u001b[43m__send_message\u001b[49m\u001b[43m(\u001b[49m\u001b[43mq\u001b[49m\u001b[43m)\u001b[49m\n\u001b[1;32m   1166\u001b[0m \u001b[38;5;28;01melif\u001b[39;00m \u001b[38;5;28mself\u001b[39m\u001b[38;5;241m.\u001b[39m__id:  \u001b[38;5;66;03m# Get More\u001b[39;00m\n\u001b[1;32m   1167\u001b[0m     \u001b[38;5;28;01mif\u001b[39;00m \u001b[38;5;28mself\u001b[39m\u001b[38;5;241m.\u001b[39m__limit:\n",
      "File \u001b[0;32m/Library/Frameworks/Python.framework/Versions/3.10/lib/python3.10/site-packages/pymongo/cursor.py:1052\u001b[0m, in \u001b[0;36mCursor.__send_message\u001b[0;34m(self, operation)\u001b[0m\n\u001b[1;32m   1049\u001b[0m     \u001b[38;5;28;01mraise\u001b[39;00m InvalidOperation(\u001b[38;5;124m\"\u001b[39m\u001b[38;5;124mexhaust cursors do not support auto encryption\u001b[39m\u001b[38;5;124m\"\u001b[39m)\n\u001b[1;32m   1051\u001b[0m \u001b[38;5;28;01mtry\u001b[39;00m:\n\u001b[0;32m-> 1052\u001b[0m     response \u001b[38;5;241m=\u001b[39m \u001b[43mclient\u001b[49m\u001b[38;5;241;43m.\u001b[39;49m\u001b[43m_run_operation\u001b[49m\u001b[43m(\u001b[49m\n\u001b[1;32m   1053\u001b[0m \u001b[43m        \u001b[49m\u001b[43moperation\u001b[49m\u001b[43m,\u001b[49m\u001b[43m \u001b[49m\u001b[38;5;28;43mself\u001b[39;49m\u001b[38;5;241;43m.\u001b[39;49m\u001b[43m_unpack_response\u001b[49m\u001b[43m,\u001b[49m\u001b[43m \u001b[49m\u001b[43maddress\u001b[49m\u001b[38;5;241;43m=\u001b[39;49m\u001b[38;5;28;43mself\u001b[39;49m\u001b[38;5;241;43m.\u001b[39;49m\u001b[43m__address\u001b[49m\n\u001b[1;32m   1054\u001b[0m \u001b[43m    \u001b[49m\u001b[43m)\u001b[49m\n\u001b[1;32m   1055\u001b[0m \u001b[38;5;28;01mexcept\u001b[39;00m OperationFailure \u001b[38;5;28;01mas\u001b[39;00m exc:\n\u001b[1;32m   1056\u001b[0m     \u001b[38;5;28;01mif\u001b[39;00m exc\u001b[38;5;241m.\u001b[39mcode \u001b[38;5;129;01min\u001b[39;00m _CURSOR_CLOSED_ERRORS \u001b[38;5;129;01mor\u001b[39;00m \u001b[38;5;28mself\u001b[39m\u001b[38;5;241m.\u001b[39m__exhaust:\n\u001b[1;32m   1057\u001b[0m         \u001b[38;5;66;03m# Don't send killCursors because the cursor is already closed.\u001b[39;00m\n",
      "File \u001b[0;32m/Library/Frameworks/Python.framework/Versions/3.10/lib/python3.10/site-packages/pymongo/mongo_client.py:1267\u001b[0m, in \u001b[0;36mMongoClient._run_operation\u001b[0;34m(self, operation, unpack_res, address)\u001b[0m\n\u001b[1;32m   1262\u001b[0m \u001b[38;5;28;01mdef\u001b[39;00m \u001b[38;5;21m_cmd\u001b[39m(session, server, sock_info, read_preference):\n\u001b[1;32m   1263\u001b[0m     \u001b[38;5;28;01mreturn\u001b[39;00m server\u001b[38;5;241m.\u001b[39mrun_operation(\n\u001b[1;32m   1264\u001b[0m         sock_info, operation, read_preference, \u001b[38;5;28mself\u001b[39m\u001b[38;5;241m.\u001b[39m_event_listeners, unpack_res\n\u001b[1;32m   1265\u001b[0m     )\n\u001b[0;32m-> 1267\u001b[0m \u001b[38;5;28;01mreturn\u001b[39;00m \u001b[38;5;28;43mself\u001b[39;49m\u001b[38;5;241;43m.\u001b[39;49m\u001b[43m_retryable_read\u001b[49m\u001b[43m(\u001b[49m\n\u001b[1;32m   1268\u001b[0m \u001b[43m    \u001b[49m\u001b[43m_cmd\u001b[49m\u001b[43m,\u001b[49m\n\u001b[1;32m   1269\u001b[0m \u001b[43m    \u001b[49m\u001b[43moperation\u001b[49m\u001b[38;5;241;43m.\u001b[39;49m\u001b[43mread_preference\u001b[49m\u001b[43m,\u001b[49m\n\u001b[1;32m   1270\u001b[0m \u001b[43m    \u001b[49m\u001b[43moperation\u001b[49m\u001b[38;5;241;43m.\u001b[39;49m\u001b[43msession\u001b[49m\u001b[43m,\u001b[49m\n\u001b[1;32m   1271\u001b[0m \u001b[43m    \u001b[49m\u001b[43maddress\u001b[49m\u001b[38;5;241;43m=\u001b[39;49m\u001b[43maddress\u001b[49m\u001b[43m,\u001b[49m\n\u001b[1;32m   1272\u001b[0m \u001b[43m    \u001b[49m\u001b[43mretryable\u001b[49m\u001b[38;5;241;43m=\u001b[39;49m\u001b[38;5;28;43misinstance\u001b[39;49m\u001b[43m(\u001b[49m\u001b[43moperation\u001b[49m\u001b[43m,\u001b[49m\u001b[43m \u001b[49m\u001b[43mmessage\u001b[49m\u001b[38;5;241;43m.\u001b[39;49m\u001b[43m_Query\u001b[49m\u001b[43m)\u001b[49m\u001b[43m,\u001b[49m\n\u001b[1;32m   1273\u001b[0m \u001b[43m\u001b[49m\u001b[43m)\u001b[49m\n",
      "File \u001b[0;32m/Library/Frameworks/Python.framework/Versions/3.10/lib/python3.10/site-packages/pymongo/mongo_client.py:1371\u001b[0m, in \u001b[0;36mMongoClient._retryable_read\u001b[0;34m(self, func, read_pref, session, address, retryable)\u001b[0m\n\u001b[1;32m   1369\u001b[0m             \u001b[38;5;28;01massert\u001b[39;00m last_error \u001b[38;5;129;01mis\u001b[39;00m \u001b[38;5;129;01mnot\u001b[39;00m \u001b[38;5;28;01mNone\u001b[39;00m\n\u001b[1;32m   1370\u001b[0m             \u001b[38;5;28;01mraise\u001b[39;00m last_error\n\u001b[0;32m-> 1371\u001b[0m         \u001b[38;5;28;01mreturn\u001b[39;00m \u001b[43mfunc\u001b[49m\u001b[43m(\u001b[49m\u001b[43msession\u001b[49m\u001b[43m,\u001b[49m\u001b[43m \u001b[49m\u001b[43mserver\u001b[49m\u001b[43m,\u001b[49m\u001b[43m \u001b[49m\u001b[43msock_info\u001b[49m\u001b[43m,\u001b[49m\u001b[43m \u001b[49m\u001b[43mread_pref\u001b[49m\u001b[43m)\u001b[49m\n\u001b[1;32m   1372\u001b[0m \u001b[38;5;28;01mexcept\u001b[39;00m ServerSelectionTimeoutError:\n\u001b[1;32m   1373\u001b[0m     \u001b[38;5;28;01mif\u001b[39;00m retrying:\n\u001b[1;32m   1374\u001b[0m         \u001b[38;5;66;03m# The application may think the write was never attempted\u001b[39;00m\n\u001b[1;32m   1375\u001b[0m         \u001b[38;5;66;03m# if we raise ServerSelectionTimeoutError on the retry\u001b[39;00m\n\u001b[1;32m   1376\u001b[0m         \u001b[38;5;66;03m# attempt. Raise the original exception instead.\u001b[39;00m\n",
      "File \u001b[0;32m/Library/Frameworks/Python.framework/Versions/3.10/lib/python3.10/site-packages/pymongo/mongo_client.py:1263\u001b[0m, in \u001b[0;36mMongoClient._run_operation.<locals>._cmd\u001b[0;34m(session, server, sock_info, read_preference)\u001b[0m\n\u001b[1;32m   1262\u001b[0m \u001b[38;5;28;01mdef\u001b[39;00m \u001b[38;5;21m_cmd\u001b[39m(session, server, sock_info, read_preference):\n\u001b[0;32m-> 1263\u001b[0m     \u001b[38;5;28;01mreturn\u001b[39;00m \u001b[43mserver\u001b[49m\u001b[38;5;241;43m.\u001b[39;49m\u001b[43mrun_operation\u001b[49m\u001b[43m(\u001b[49m\n\u001b[1;32m   1264\u001b[0m \u001b[43m        \u001b[49m\u001b[43msock_info\u001b[49m\u001b[43m,\u001b[49m\u001b[43m \u001b[49m\u001b[43moperation\u001b[49m\u001b[43m,\u001b[49m\u001b[43m \u001b[49m\u001b[43mread_preference\u001b[49m\u001b[43m,\u001b[49m\u001b[43m \u001b[49m\u001b[38;5;28;43mself\u001b[39;49m\u001b[38;5;241;43m.\u001b[39;49m\u001b[43m_event_listeners\u001b[49m\u001b[43m,\u001b[49m\u001b[43m \u001b[49m\u001b[43munpack_res\u001b[49m\n\u001b[1;32m   1265\u001b[0m \u001b[43m    \u001b[49m\u001b[43m)\u001b[49m\n",
      "File \u001b[0;32m/Library/Frameworks/Python.framework/Versions/3.10/lib/python3.10/site-packages/pymongo/server.py:134\u001b[0m, in \u001b[0;36mServer.run_operation\u001b[0;34m(self, sock_info, operation, read_preference, listeners, unpack_res)\u001b[0m\n\u001b[1;32m    132\u001b[0m         first \u001b[38;5;241m=\u001b[39m docs[\u001b[38;5;241m0\u001b[39m]\n\u001b[1;32m    133\u001b[0m         operation\u001b[38;5;241m.\u001b[39mclient\u001b[38;5;241m.\u001b[39m_process_response(first, operation\u001b[38;5;241m.\u001b[39msession)\n\u001b[0;32m--> 134\u001b[0m         \u001b[43m_check_command_response\u001b[49m\u001b[43m(\u001b[49m\u001b[43mfirst\u001b[49m\u001b[43m,\u001b[49m\u001b[43m \u001b[49m\u001b[43msock_info\u001b[49m\u001b[38;5;241;43m.\u001b[39;49m\u001b[43mmax_wire_version\u001b[49m\u001b[43m)\u001b[49m\n\u001b[1;32m    135\u001b[0m \u001b[38;5;28;01mexcept\u001b[39;00m \u001b[38;5;167;01mException\u001b[39;00m \u001b[38;5;28;01mas\u001b[39;00m exc:\n\u001b[1;32m    136\u001b[0m     \u001b[38;5;28;01mif\u001b[39;00m publish:\n",
      "File \u001b[0;32m/Library/Frameworks/Python.framework/Versions/3.10/lib/python3.10/site-packages/pymongo/helpers.py:180\u001b[0m, in \u001b[0;36m_check_command_response\u001b[0;34m(response, max_wire_version, allowable_errors, parse_write_concern_error)\u001b[0m\n\u001b[1;32m    177\u001b[0m \u001b[38;5;28;01melif\u001b[39;00m code \u001b[38;5;241m==\u001b[39m \u001b[38;5;241m43\u001b[39m:\n\u001b[1;32m    178\u001b[0m     \u001b[38;5;28;01mraise\u001b[39;00m CursorNotFound(errmsg, code, response, max_wire_version)\n\u001b[0;32m--> 180\u001b[0m \u001b[38;5;28;01mraise\u001b[39;00m OperationFailure(errmsg, code, response, max_wire_version)\n",
      "\u001b[0;31mOperationFailure\u001b[0m: Cannot do exclusion on field rollno in inclusion projection, full error: {'ok': 0.0, 'errmsg': 'Cannot do exclusion on field rollno in inclusion projection', 'code': 31254, 'codeName': 'Location31254'}"
     ]
    }
   ],
   "source": [
    "coll.find_one({},{'loc':1,'rollno':0,'_id':0})"
   ]
  },
  {
   "cell_type": "code",
   "execution_count": null,
   "id": "bc6b6990",
   "metadata": {},
   "outputs": [],
   "source": [
    "20 keys : read 4 keys : specify 1 for these 4 keys\n",
    "20 keys : skip 4 keys : specify 0 for these 4 keys"
   ]
  },
  {
   "cell_type": "code",
   "execution_count": 22,
   "id": "486546f0",
   "metadata": {},
   "outputs": [
    {
     "data": {
      "text/plain": [
       "{'_id': ObjectId('6543bf7e2c950f9acfc52d2a'),\n",
       " 'rollno': 102,\n",
       " 'stud_name': 'ronita',\n",
       " 'gender': 'f',\n",
       " 'loc': 'mumbai'}"
      ]
     },
     "execution_count": 22,
     "metadata": {},
     "output_type": "execute_result"
    }
   ],
   "source": [
    "coll.find_one({'gender':'f'})"
   ]
  },
  {
   "cell_type": "code",
   "execution_count": 23,
   "id": "54f495f8",
   "metadata": {},
   "outputs": [
    {
     "data": {
      "text/plain": [
       "{'_id': ObjectId('6543bf7e2c950f9acfc52d2a'),\n",
       " 'rollno': 102,\n",
       " 'stud_name': 'ronita',\n",
       " 'gender': 'f',\n",
       " 'loc': 'mumbai'}"
      ]
     },
     "execution_count": 23,
     "metadata": {},
     "output_type": "execute_result"
    }
   ],
   "source": [
    "coll.find_one({'loc':'mumbai'})"
   ]
  },
  {
   "cell_type": "code",
   "execution_count": null,
   "id": "bb4c141e",
   "metadata": {},
   "outputs": [],
   "source": [
    "### \n",
    "$gt: greater than\n",
    "$gte: greater than equal to\n",
    "$ne : not equals to\n",
    "$lt : less than\n",
    "$lte:less than equals to\n",
    "$in : specify multiple possoble values"
   ]
  },
  {
   "cell_type": "code",
   "execution_count": 24,
   "id": "f674cdb9",
   "metadata": {},
   "outputs": [
    {
     "data": {
      "text/plain": [
       "{'_id': ObjectId('6543c0e02c950f9acfc52d2e'),\n",
       " 'rollno': 106,\n",
       " 'stud_name': 'veena'}"
      ]
     },
     "execution_count": 24,
     "metadata": {},
     "output_type": "execute_result"
    }
   ],
   "source": [
    "coll.find_one({'rollno':{'$gt':105}})"
   ]
  },
  {
   "cell_type": "code",
   "execution_count": 25,
   "id": "17397e62",
   "metadata": {},
   "outputs": [
    {
     "data": {
      "text/plain": [
       "{'_id': ObjectId('6543c0252c950f9acfc52d2d'),\n",
       " 'rollno': 105,\n",
       " 'stud_name': 'akash',\n",
       " 'gender': 'm',\n",
       " 'contact': {'email': 'akash@gmail.com', 'mobno': 1234}}"
      ]
     },
     "execution_count": 25,
     "metadata": {},
     "output_type": "execute_result"
    }
   ],
   "source": [
    "coll.find_one({'rollno':{'$gte':105}})"
   ]
  },
  {
   "cell_type": "code",
   "execution_count": 26,
   "id": "e1bdebc9",
   "metadata": {},
   "outputs": [
    {
     "data": {
      "text/plain": [
       "{'_id': ObjectId('6543bf002c950f9acfc52d29'),\n",
       " 'rollno': 101,\n",
       " 'stud_name': 'rohit',\n",
       " 'gender': 'm',\n",
       " 'loc': 'pune'}"
      ]
     },
     "execution_count": 26,
     "metadata": {},
     "output_type": "execute_result"
    }
   ],
   "source": [
    "coll.find_one({'rollno':{'$lt':105}})"
   ]
  },
  {
   "cell_type": "markdown",
   "id": "e3131289",
   "metadata": {},
   "source": [
    "### combine multiple filter condition"
   ]
  },
  {
   "cell_type": "code",
   "execution_count": null,
   "id": "4e150987",
   "metadata": {},
   "outputs": [],
   "source": [
    "AND & OR "
   ]
  },
  {
   "cell_type": "code",
   "execution_count": 28,
   "id": "29350d86",
   "metadata": {},
   "outputs": [
    {
     "data": {
      "text/plain": [
       "{'_id': ObjectId('6543bf9f2c950f9acfc52d2b'),\n",
       " 'rollno': 103,\n",
       " 'stud_name': 'nita',\n",
       " 'gender': 'f'}"
      ]
     },
     "execution_count": 28,
     "metadata": {},
     "output_type": "execute_result"
    }
   ],
   "source": [
    "coll.find_one({'rollno':103,'stud_name':'nita'})"
   ]
  },
  {
   "cell_type": "code",
   "execution_count": 33,
   "id": "f85a9f98",
   "metadata": {},
   "outputs": [],
   "source": [
    "coll.find_one({'rollno':103,'stud_name':'snehal'})"
   ]
  },
  {
   "cell_type": "code",
   "execution_count": 30,
   "id": "8acb8c53",
   "metadata": {},
   "outputs": [
    {
     "data": {
      "text/plain": [
       "{'_id': ObjectId('6543bf9f2c950f9acfc52d2b'),\n",
       " 'rollno': 103,\n",
       " 'stud_name': 'nita',\n",
       " 'gender': 'f'}"
      ]
     },
     "execution_count": 30,
     "metadata": {},
     "output_type": "execute_result"
    }
   ],
   "source": [
    "coll.find_one({'$or':[{'rollno':103},{'stud_name':'snehal'}]})"
   ]
  },
  {
   "cell_type": "code",
   "execution_count": 34,
   "id": "39ee7ef5",
   "metadata": {},
   "outputs": [
    {
     "data": {
      "text/plain": [
       "{'_id': ObjectId('6543bf7e2c950f9acfc52d2a'),\n",
       " 'rollno': 102,\n",
       " 'stud_name': 'ronita',\n",
       " 'gender': 'f',\n",
       " 'loc': 'mumbai'}"
      ]
     },
     "execution_count": 34,
     "metadata": {},
     "output_type": "execute_result"
    }
   ],
   "source": [
    "coll.find_one({'$or':[{'rollno':103},{'stud_name':'ronita','gender':'f'}]})"
   ]
  },
  {
   "cell_type": "code",
   "execution_count": null,
   "id": "0ec9d6ee",
   "metadata": {},
   "outputs": [],
   "source": [
    "rollno 103 or stud_name=ronita and gender=f"
   ]
  },
  {
   "cell_type": "markdown",
   "id": "cbd534fb",
   "metadata": {},
   "source": [
    "#### find()"
   ]
  },
  {
   "cell_type": "code",
   "execution_count": null,
   "id": "3a8ad96f",
   "metadata": {},
   "outputs": [],
   "source": [
    "returns multiple documents\n",
    "collection_name.find({filter condition},{select})\n",
    "without filter condition: returns all documents of the collection\n",
    "                    ## select * from table_name;\n",
    "with filter condition: returns all matched documents\n",
    "                 ## select * from table_name where condition;"
   ]
  },
  {
   "cell_type": "code",
   "execution_count": 35,
   "id": "6de9bf0f",
   "metadata": {},
   "outputs": [
    {
     "data": {
      "text/plain": [
       "[{'_id': ObjectId('6543bf002c950f9acfc52d29'),\n",
       "  'rollno': 101,\n",
       "  'stud_name': 'rohit',\n",
       "  'gender': 'm',\n",
       "  'loc': 'pune'},\n",
       " {'_id': ObjectId('6543bf7e2c950f9acfc52d2a'),\n",
       "  'rollno': 102,\n",
       "  'stud_name': 'ronita',\n",
       "  'gender': 'f',\n",
       "  'loc': 'mumbai'},\n",
       " {'_id': ObjectId('6543bf9f2c950f9acfc52d2b'),\n",
       "  'rollno': 103,\n",
       "  'stud_name': 'nita',\n",
       "  'gender': 'f'},\n",
       " {'_id': ObjectId('6543bfdb2c950f9acfc52d2c'),\n",
       "  'rollno': 104,\n",
       "  'stud_name': 'dhiraj',\n",
       "  'gender': 'm',\n",
       "  'contact': 1234},\n",
       " {'_id': ObjectId('6543c0252c950f9acfc52d2d'),\n",
       "  'rollno': 105,\n",
       "  'stud_name': 'akash',\n",
       "  'gender': 'm',\n",
       "  'contact': {'email': 'akash@gmail.com', 'mobno': 1234}},\n",
       " {'_id': ObjectId('6543c0e02c950f9acfc52d2e'),\n",
       "  'rollno': 106,\n",
       "  'stud_name': 'veena'},\n",
       " {'_id': ObjectId('6543c0e02c950f9acfc52d2f'),\n",
       "  'rollno': 107,\n",
       "  'stud_name': 'pooja',\n",
       "  'loc': 'mumbai'}]"
      ]
     },
     "execution_count": 35,
     "metadata": {},
     "output_type": "execute_result"
    }
   ],
   "source": [
    "data=coll.find({})\n",
    "list(data)"
   ]
  },
  {
   "cell_type": "code",
   "execution_count": 36,
   "id": "7489663a",
   "metadata": {},
   "outputs": [
    {
     "data": {
      "text/plain": [
       "[{'rollno': 101, 'stud_name': 'rohit', 'gender': 'm', 'loc': 'pune'},\n",
       " {'rollno': 102, 'stud_name': 'ronita', 'gender': 'f', 'loc': 'mumbai'},\n",
       " {'rollno': 103, 'stud_name': 'nita', 'gender': 'f'},\n",
       " {'rollno': 104, 'stud_name': 'dhiraj', 'gender': 'm', 'contact': 1234},\n",
       " {'rollno': 105,\n",
       "  'stud_name': 'akash',\n",
       "  'gender': 'm',\n",
       "  'contact': {'email': 'akash@gmail.com', 'mobno': 1234}},\n",
       " {'rollno': 106, 'stud_name': 'veena'},\n",
       " {'rollno': 107, 'stud_name': 'pooja', 'loc': 'mumbai'}]"
      ]
     },
     "execution_count": 36,
     "metadata": {},
     "output_type": "execute_result"
    }
   ],
   "source": [
    "data=coll.find({},{'_id':0})\n",
    "list(data)"
   ]
  },
  {
   "cell_type": "code",
   "execution_count": 38,
   "id": "11b32fbb",
   "metadata": {},
   "outputs": [
    {
     "data": {
      "text/plain": [
       "[{'rollno': 101},\n",
       " {'rollno': 102},\n",
       " {'rollno': 103},\n",
       " {'rollno': 104},\n",
       " {'rollno': 105},\n",
       " {'rollno': 106},\n",
       " {'rollno': 107}]"
      ]
     },
     "execution_count": 38,
     "metadata": {},
     "output_type": "execute_result"
    }
   ],
   "source": [
    "data=coll.find({},{'rollno':1,'_id':0})\n",
    "list(data)"
   ]
  },
  {
   "cell_type": "code",
   "execution_count": 39,
   "id": "051a8813",
   "metadata": {},
   "outputs": [
    {
     "data": {
      "text/plain": [
       "[{'rollno': 101, 'stud_name': 'rohit', 'gender': 'm', 'loc': 'pune'},\n",
       " {'rollno': 102, 'stud_name': 'ronita', 'gender': 'f', 'loc': 'mumbai'},\n",
       " {'rollno': 103, 'stud_name': 'nita', 'gender': 'f'},\n",
       " {'rollno': 104, 'stud_name': 'dhiraj', 'gender': 'm'},\n",
       " {'rollno': 105, 'stud_name': 'akash', 'gender': 'm'},\n",
       " {'rollno': 106, 'stud_name': 'veena'},\n",
       " {'rollno': 107, 'stud_name': 'pooja', 'loc': 'mumbai'}]"
      ]
     },
     "execution_count": 39,
     "metadata": {},
     "output_type": "execute_result"
    }
   ],
   "source": [
    "data=coll.find({},{'contact':0,'_id':0})\n",
    "list(data)"
   ]
  },
  {
   "cell_type": "code",
   "execution_count": 40,
   "id": "957742bf",
   "metadata": {},
   "outputs": [
    {
     "data": {
      "text/plain": [
       "[{'_id': ObjectId('6543bf7e2c950f9acfc52d2a'),\n",
       "  'rollno': 102,\n",
       "  'stud_name': 'ronita',\n",
       "  'gender': 'f',\n",
       "  'loc': 'mumbai'},\n",
       " {'_id': ObjectId('6543c0e02c950f9acfc52d2f'),\n",
       "  'rollno': 107,\n",
       "  'stud_name': 'pooja',\n",
       "  'loc': 'mumbai'}]"
      ]
     },
     "execution_count": 40,
     "metadata": {},
     "output_type": "execute_result"
    }
   ],
   "source": [
    "data=coll.find({'loc':'mumbai'})\n",
    "list(data)"
   ]
  },
  {
   "cell_type": "code",
   "execution_count": 41,
   "id": "48f07150",
   "metadata": {},
   "outputs": [
    {
     "data": {
      "text/plain": [
       "[{'_id': ObjectId('6543bf7e2c950f9acfc52d2a'),\n",
       "  'rollno': 102,\n",
       "  'stud_name': 'ronita',\n",
       "  'gender': 'f',\n",
       "  'loc': 'mumbai'},\n",
       " {'_id': ObjectId('6543bf9f2c950f9acfc52d2b'),\n",
       "  'rollno': 103,\n",
       "  'stud_name': 'nita',\n",
       "  'gender': 'f'}]"
      ]
     },
     "execution_count": 41,
     "metadata": {},
     "output_type": "execute_result"
    }
   ],
   "source": [
    "data=coll.find({'gender':'f'})\n",
    "list(data)"
   ]
  },
  {
   "cell_type": "code",
   "execution_count": 45,
   "id": "05aa142b",
   "metadata": {},
   "outputs": [
    {
     "data": {
      "text/html": [
       "<div>\n",
       "<style scoped>\n",
       "    .dataframe tbody tr th:only-of-type {\n",
       "        vertical-align: middle;\n",
       "    }\n",
       "\n",
       "    .dataframe tbody tr th {\n",
       "        vertical-align: top;\n",
       "    }\n",
       "\n",
       "    .dataframe thead th {\n",
       "        text-align: right;\n",
       "    }\n",
       "</style>\n",
       "<table border=\"1\" class=\"dataframe\">\n",
       "  <thead>\n",
       "    <tr style=\"text-align: right;\">\n",
       "      <th></th>\n",
       "      <th>rollno</th>\n",
       "      <th>stud_name</th>\n",
       "      <th>gender</th>\n",
       "      <th>loc</th>\n",
       "      <th>contact</th>\n",
       "    </tr>\n",
       "  </thead>\n",
       "  <tbody>\n",
       "    <tr>\n",
       "      <th>0</th>\n",
       "      <td>101</td>\n",
       "      <td>rohit</td>\n",
       "      <td>m</td>\n",
       "      <td>pune</td>\n",
       "      <td>NaN</td>\n",
       "    </tr>\n",
       "    <tr>\n",
       "      <th>1</th>\n",
       "      <td>102</td>\n",
       "      <td>ronita</td>\n",
       "      <td>f</td>\n",
       "      <td>mumbai</td>\n",
       "      <td>NaN</td>\n",
       "    </tr>\n",
       "    <tr>\n",
       "      <th>2</th>\n",
       "      <td>103</td>\n",
       "      <td>nita</td>\n",
       "      <td>f</td>\n",
       "      <td>NaN</td>\n",
       "      <td>NaN</td>\n",
       "    </tr>\n",
       "    <tr>\n",
       "      <th>3</th>\n",
       "      <td>104</td>\n",
       "      <td>dhiraj</td>\n",
       "      <td>m</td>\n",
       "      <td>NaN</td>\n",
       "      <td>1234</td>\n",
       "    </tr>\n",
       "    <tr>\n",
       "      <th>4</th>\n",
       "      <td>105</td>\n",
       "      <td>akash</td>\n",
       "      <td>m</td>\n",
       "      <td>NaN</td>\n",
       "      <td>{'email': 'akash@gmail.com', 'mobno': 1234}</td>\n",
       "    </tr>\n",
       "    <tr>\n",
       "      <th>5</th>\n",
       "      <td>106</td>\n",
       "      <td>veena</td>\n",
       "      <td>NaN</td>\n",
       "      <td>NaN</td>\n",
       "      <td>NaN</td>\n",
       "    </tr>\n",
       "    <tr>\n",
       "      <th>6</th>\n",
       "      <td>107</td>\n",
       "      <td>pooja</td>\n",
       "      <td>NaN</td>\n",
       "      <td>mumbai</td>\n",
       "      <td>NaN</td>\n",
       "    </tr>\n",
       "  </tbody>\n",
       "</table>\n",
       "</div>"
      ],
      "text/plain": [
       "   rollno stud_name gender     loc  \\\n",
       "0     101     rohit      m    pune   \n",
       "1     102    ronita      f  mumbai   \n",
       "2     103      nita      f     NaN   \n",
       "3     104    dhiraj      m     NaN   \n",
       "4     105     akash      m     NaN   \n",
       "5     106     veena    NaN     NaN   \n",
       "6     107     pooja    NaN  mumbai   \n",
       "\n",
       "                                       contact  \n",
       "0                                          NaN  \n",
       "1                                          NaN  \n",
       "2                                          NaN  \n",
       "3                                         1234  \n",
       "4  {'email': 'akash@gmail.com', 'mobno': 1234}  \n",
       "5                                          NaN  \n",
       "6                                          NaN  "
      ]
     },
     "execution_count": 45,
     "metadata": {},
     "output_type": "execute_result"
    }
   ],
   "source": [
    "data=coll.find({},{'_id':0})\n",
    "data1=list(data)\n",
    "df=pd.DataFrame(data1)\n",
    "df"
   ]
  },
  {
   "cell_type": "code",
   "execution_count": 47,
   "id": "a7501051",
   "metadata": {},
   "outputs": [
    {
     "data": {
      "text/plain": [
       "[{'_id': ObjectId('6543bf7e2c950f9acfc52d2a'),\n",
       "  'rollno': 102,\n",
       "  'stud_name': 'ronita',\n",
       "  'gender': 'f',\n",
       "  'loc': 'mumbai'},\n",
       " {'_id': ObjectId('6543bfdb2c950f9acfc52d2c'),\n",
       "  'rollno': 104,\n",
       "  'stud_name': 'dhiraj',\n",
       "  'gender': 'm',\n",
       "  'contact': 1234},\n",
       " {'_id': ObjectId('6543c0e02c950f9acfc52d2e'),\n",
       "  'rollno': 106,\n",
       "  'stud_name': 'veena'}]"
      ]
     },
     "execution_count": 47,
     "metadata": {},
     "output_type": "execute_result"
    }
   ],
   "source": [
    "data=coll.find({'rollno':{'$in':[102,104,106]}})\n",
    "list(data)"
   ]
  },
  {
   "cell_type": "markdown",
   "id": "4f04b1cc",
   "metadata": {},
   "source": [
    "### update data"
   ]
  },
  {
   "cell_type": "code",
   "execution_count": null,
   "id": "84d34356",
   "metadata": {},
   "outputs": [],
   "source": [
    "update_one(): update a single document\n",
    "update_many():update multiple documents"
   ]
  },
  {
   "cell_type": "markdown",
   "id": "02462c15",
   "metadata": {},
   "source": [
    "#### 1. update_one()"
   ]
  },
  {
   "cell_type": "code",
   "execution_count": null,
   "id": "d44d06ab",
   "metadata": {},
   "outputs": [],
   "source": [
    "collection_name.update_one({filter condition},{'$set':{'key':new value}})\n",
    "without filter condition: update the first document of the collection\n",
    "with filter condition:    update the first matched document"
   ]
  },
  {
   "cell_type": "code",
   "execution_count": 48,
   "id": "ab7cd6dc",
   "metadata": {},
   "outputs": [
    {
     "data": {
      "text/plain": [
       "<pymongo.results.UpdateResult at 0x1242b8cd0>"
      ]
     },
     "execution_count": 48,
     "metadata": {},
     "output_type": "execute_result"
    }
   ],
   "source": [
    "coll.update_one({},{'$set':{'loc':'chennai'}})"
   ]
  },
  {
   "cell_type": "code",
   "execution_count": 49,
   "id": "e1f19404",
   "metadata": {},
   "outputs": [
    {
     "data": {
      "text/plain": [
       "<pymongo.results.UpdateResult at 0x124132fb0>"
      ]
     },
     "execution_count": 49,
     "metadata": {},
     "output_type": "execute_result"
    }
   ],
   "source": [
    "coll.update_one({},{'$set':{'contact':8983}})"
   ]
  },
  {
   "cell_type": "code",
   "execution_count": 50,
   "id": "acea01ec",
   "metadata": {},
   "outputs": [
    {
     "data": {
      "text/plain": [
       "<pymongo.results.UpdateResult at 0x1242b86d0>"
      ]
     },
     "execution_count": 50,
     "metadata": {},
     "output_type": "execute_result"
    }
   ],
   "source": [
    "coll.update_one({'rollno':106},{'$set':{'loc':'pune'}})"
   ]
  },
  {
   "cell_type": "code",
   "execution_count": 52,
   "id": "4e03f10e",
   "metadata": {},
   "outputs": [
    {
     "data": {
      "text/plain": [
       "<pymongo.results.UpdateResult at 0x12711f910>"
      ]
     },
     "execution_count": 52,
     "metadata": {},
     "output_type": "execute_result"
    }
   ],
   "source": [
    "coll.update_one({'loc':'mumbai'},{'$set':{'contact':2345}})"
   ]
  },
  {
   "cell_type": "markdown",
   "id": "79711ffc",
   "metadata": {},
   "source": [
    "### "
   ]
  },
  {
   "cell_type": "markdown",
   "id": "d481966c",
   "metadata": {},
   "source": [
    "### MongoDB"
   ]
  },
  {
   "cell_type": "code",
   "execution_count": null,
   "id": "0b92c2ae",
   "metadata": {},
   "outputs": [],
   "source": [
    "non relational database\n",
    "unstructured data in the form of json files/dictionries"
   ]
  },
  {
   "cell_type": "code",
   "execution_count": null,
   "id": "2dcb8aac",
   "metadata": {},
   "outputs": [],
   "source": [
    "create connection"
   ]
  },
  {
   "cell_type": "code",
   "execution_count": null,
   "id": "c20d456e",
   "metadata": {},
   "outputs": [],
   "source": [
    "create database  : client['db_name']\n",
    "create collection: db['collection name']\n",
    "\n",
    "insert data/document :\n",
    "    insert_one() : used to insert a single document\n",
    "        collection_name.insert_one({key:value})\n",
    "    insert_many(): used to insert multiple documents\n",
    "        collection_name.insert_many([{},{},{}])\n",
    "        \n",
    "read data:\n",
    "    find_one(): returns a single document\n",
    "        collection_name.find_one({filter condition},{select})\n",
    "        \n",
    "        without filter condition: returns first document of the collection\n",
    "        with filter condition   : returns first matched document\n",
    "            \n",
    "    find():     returns mulitple documents\n",
    "        collection_name.find({filter condition},{select})\n",
    "        \n",
    "        without filter condition: returns all documents of the collection\n",
    "        with filter condition   : returns all matched documents\n",
    "            \n",
    "            \n",
    "update data:\n",
    "    update_one() : update a single document\n",
    "        collection_name.update_one({filter condition},{'$set':{'key':new value,'key':value}})\n",
    "        \n",
    "        without filter condition: update first document of the collection\n",
    "        with filter condition   : update first matched document\n",
    "        \n",
    "        \n",
    "    update_many(): update multiple documents\n",
    "        collection_name.update_many({filter condition},{'$set':{'key':new value,'key':value}})\n",
    "      \n",
    "        without filter condition: update all documents of the collection\n",
    "        with filter condition   : update all matched documents\n",
    "            \n",
    "delete data:\n",
    "    delete_one(): delete a single document\n",
    "        collection_name.delete_one({filter condition})\n",
    "        \n",
    "        without filter condition: delete first document of the collection\n",
    "        with filter condition   : delete first matched document\n",
    "            \n",
    "    delete_many(): delete multiple documents\n",
    "        collection_name.delete_many({filter condition})\n",
    "\n",
    "        without filter condition: delete all documents of the collection\n",
    "        with filter condition   : delete all matched documents\n"
   ]
  },
  {
   "cell_type": "code",
   "execution_count": 6,
   "id": "09acea21",
   "metadata": {},
   "outputs": [
    {
     "data": {
      "text/plain": [
       "{'_id': ObjectId('6543bf002c950f9acfc52d29'),\n",
       " 'rollno': 101,\n",
       " 'stud_name': 'rohit',\n",
       " 'gender': 'm',\n",
       " 'loc': 'chennai',\n",
       " 'contact': 8983}"
      ]
     },
     "execution_count": 6,
     "metadata": {},
     "output_type": "execute_result"
    }
   ],
   "source": [
    "coll.find_one({})"
   ]
  },
  {
   "cell_type": "code",
   "execution_count": 7,
   "id": "c1bedfd4",
   "metadata": {},
   "outputs": [
    {
     "data": {
      "text/plain": [
       "{'_id': ObjectId('6543bf002c950f9acfc52d29'),\n",
       " 'rollno': 101,\n",
       " 'stud_name': 'rohit',\n",
       " 'gender': 'm',\n",
       " 'loc': 'chennai',\n",
       " 'contact': 8983}"
      ]
     },
     "execution_count": 7,
     "metadata": {},
     "output_type": "execute_result"
    }
   ],
   "source": [
    "coll.find_one({'gender':'m'})"
   ]
  },
  {
   "cell_type": "code",
   "execution_count": 8,
   "id": "d496a579",
   "metadata": {},
   "outputs": [],
   "source": [
    "import bson\n",
    "from bson.objectid import ObjectId"
   ]
  },
  {
   "cell_type": "code",
   "execution_count": 9,
   "id": "812ef84f",
   "metadata": {},
   "outputs": [
    {
     "data": {
      "text/plain": [
       "{'_id': ObjectId('6543bfdb2c950f9acfc52d2c'),\n",
       " 'rollno': 104,\n",
       " 'stud_name': 'dhiraj',\n",
       " 'gender': 'm',\n",
       " 'contact': 1234}"
      ]
     },
     "execution_count": 9,
     "metadata": {},
     "output_type": "execute_result"
    }
   ],
   "source": [
    "coll.find_one({'_id':ObjectId('6543bfdb2c950f9acfc52d2c')})"
   ]
  },
  {
   "cell_type": "code",
   "execution_count": 10,
   "id": "dfe0eb5d",
   "metadata": {},
   "outputs": [
    {
     "data": {
      "text/plain": [
       "<pymongo.results.UpdateResult at 0x103b7cb20>"
      ]
     },
     "execution_count": 10,
     "metadata": {},
     "output_type": "execute_result"
    }
   ],
   "source": [
    "coll.update_many({'rollno':{'$gt':105}},{'$set':{'gender':'f'}})"
   ]
  },
  {
   "cell_type": "code",
   "execution_count": 11,
   "id": "feb3b89d",
   "metadata": {},
   "outputs": [
    {
     "data": {
      "text/plain": [
       "<pymongo.results.UpdateResult at 0x117f32b90>"
      ]
     },
     "execution_count": 11,
     "metadata": {},
     "output_type": "execute_result"
    }
   ],
   "source": [
    "coll.update_one({},{'$set':{'loc':'hbd','contact':4567}})"
   ]
  },
  {
   "cell_type": "code",
   "execution_count": 12,
   "id": "e9a173b6",
   "metadata": {},
   "outputs": [
    {
     "data": {
      "text/plain": [
       "<pymongo.results.UpdateResult at 0x117f32c20>"
      ]
     },
     "execution_count": 12,
     "metadata": {},
     "output_type": "execute_result"
    }
   ],
   "source": [
    "coll.update_one({'rollno':103},{'$set':{'loc':'pune'}})"
   ]
  },
  {
   "cell_type": "code",
   "execution_count": 13,
   "id": "891f8b0f",
   "metadata": {},
   "outputs": [
    {
     "data": {
      "text/plain": [
       "<pymongo.results.UpdateResult at 0x103b17190>"
      ]
     },
     "execution_count": 13,
     "metadata": {},
     "output_type": "execute_result"
    }
   ],
   "source": [
    "coll.update_many({},{'$set':{'loc':'chennai'}})"
   ]
  },
  {
   "cell_type": "code",
   "execution_count": 14,
   "id": "8b59ec82",
   "metadata": {},
   "outputs": [
    {
     "data": {
      "text/plain": [
       "<pymongo.results.UpdateResult at 0x103b7d5d0>"
      ]
     },
     "execution_count": 14,
     "metadata": {},
     "output_type": "execute_result"
    }
   ],
   "source": [
    "coll.update_many({},{'$set':{'branch':'comp'}})"
   ]
  },
  {
   "cell_type": "code",
   "execution_count": 15,
   "id": "a8a09d4c",
   "metadata": {},
   "outputs": [
    {
     "data": {
      "text/plain": [
       "<pymongo.results.UpdateResult at 0x117f32e90>"
      ]
     },
     "execution_count": 15,
     "metadata": {},
     "output_type": "execute_result"
    }
   ],
   "source": [
    "coll.update_many({},{'$unset':{'contact':1}})"
   ]
  },
  {
   "cell_type": "markdown",
   "id": "dae1391e",
   "metadata": {},
   "source": [
    "### delete data"
   ]
  },
  {
   "cell_type": "code",
   "execution_count": null,
   "id": "7f0df927",
   "metadata": {},
   "outputs": [],
   "source": [
    "delete_one() : delete a single document\n",
    "delete_many(): delete multiple documents"
   ]
  },
  {
   "cell_type": "markdown",
   "id": "93c7bb5e",
   "metadata": {},
   "source": [
    "#### 1. delete_one()"
   ]
  },
  {
   "cell_type": "code",
   "execution_count": null,
   "id": "29655df5",
   "metadata": {},
   "outputs": [],
   "source": [
    "collection_name.delete_one({filter condition})\n",
    "without filter condition: delete first document of the collection\n",
    "with filter condition   : delete first matched document\n",
    "        "
   ]
  },
  {
   "cell_type": "code",
   "execution_count": 16,
   "id": "d4be8542",
   "metadata": {},
   "outputs": [
    {
     "data": {
      "text/plain": [
       "<pymongo.results.DeleteResult at 0x103b7d6f0>"
      ]
     },
     "execution_count": 16,
     "metadata": {},
     "output_type": "execute_result"
    }
   ],
   "source": [
    "coll.delete_one({})"
   ]
  },
  {
   "cell_type": "code",
   "execution_count": 17,
   "id": "12956e15",
   "metadata": {},
   "outputs": [
    {
     "data": {
      "text/plain": [
       "<pymongo.results.DeleteResult at 0x117f33fa0>"
      ]
     },
     "execution_count": 17,
     "metadata": {},
     "output_type": "execute_result"
    }
   ],
   "source": [
    "coll.delete_one({'gender':'m'})"
   ]
  },
  {
   "cell_type": "markdown",
   "id": "082c4a5c",
   "metadata": {},
   "source": [
    "#### 2. delete_many()"
   ]
  },
  {
   "cell_type": "code",
   "execution_count": null,
   "id": "fc43614e",
   "metadata": {},
   "outputs": [],
   "source": [
    "collection_name.delete_many({filter condition})\n",
    "without filter condition: delete all documents of the collection\n",
    "with filter condition   : delete all matched documents\n",
    "        "
   ]
  },
  {
   "cell_type": "code",
   "execution_count": 18,
   "id": "5999d688",
   "metadata": {},
   "outputs": [
    {
     "data": {
      "text/plain": [
       "<pymongo.results.DeleteResult at 0x117f32a70>"
      ]
     },
     "execution_count": 18,
     "metadata": {},
     "output_type": "execute_result"
    }
   ],
   "source": [
    "coll.delete_many({'rollno':{'$lt':105}})"
   ]
  },
  {
   "cell_type": "code",
   "execution_count": 19,
   "id": "897a3f23",
   "metadata": {},
   "outputs": [
    {
     "data": {
      "text/plain": [
       "<pymongo.results.DeleteResult at 0x103b7c940>"
      ]
     },
     "execution_count": 19,
     "metadata": {},
     "output_type": "execute_result"
    }
   ],
   "source": [
    "coll.delete_many({})"
   ]
  },
  {
   "cell_type": "markdown",
   "id": "3abba6a9",
   "metadata": {},
   "source": [
    "### drop collection"
   ]
  },
  {
   "cell_type": "code",
   "execution_count": null,
   "id": "8a4ca8f8",
   "metadata": {},
   "outputs": [],
   "source": [
    "collection_name.drop()"
   ]
  },
  {
   "cell_type": "code",
   "execution_count": 20,
   "id": "4fe802ce",
   "metadata": {},
   "outputs": [],
   "source": [
    "coll.drop()"
   ]
  },
  {
   "cell_type": "markdown",
   "id": "51dbb2db",
   "metadata": {},
   "source": [
    "### drop database"
   ]
  },
  {
   "cell_type": "code",
   "execution_count": null,
   "id": "9ffb10e7",
   "metadata": {},
   "outputs": [],
   "source": [
    "client.drop_database('db_name')"
   ]
  },
  {
   "cell_type": "markdown",
   "id": "852be063",
   "metadata": {},
   "source": [
    "### import csv file into mongo collection"
   ]
  },
  {
   "cell_type": "code",
   "execution_count": 23,
   "id": "25e42dd8",
   "metadata": {},
   "outputs": [
    {
     "data": {
      "text/plain": [
       "<pymongo.results.InsertManyResult at 0x1200ba5c0>"
      ]
     },
     "execution_count": 23,
     "metadata": {},
     "output_type": "execute_result"
    }
   ],
   "source": [
    "df=pd.read_csv('emp.csv')\n",
    "data=df.to_dict(orient='records')\n",
    "db=client['ML']\n",
    "db.emp.insert_many(data)"
   ]
  },
  {
   "cell_type": "markdown",
   "id": "f39e0c17",
   "metadata": {},
   "source": [
    "### import json file into mongo collection"
   ]
  },
  {
   "cell_type": "code",
   "execution_count": 24,
   "id": "9732af95",
   "metadata": {},
   "outputs": [],
   "source": [
    "import json"
   ]
  },
  {
   "cell_type": "code",
   "execution_count": 26,
   "id": "eeaa429d",
   "metadata": {},
   "outputs": [
    {
     "data": {
      "text/plain": [
       "<pymongo.results.InsertManyResult at 0x1200b8c40>"
      ]
     },
     "execution_count": 26,
     "metadata": {},
     "output_type": "execute_result"
    }
   ],
   "source": [
    "f=open('iris.json')\n",
    "data=json.load(f)\n",
    "db.iris.insert_many(data)"
   ]
  },
  {
   "cell_type": "code",
   "execution_count": null,
   "id": "2339267e",
   "metadata": {},
   "outputs": [],
   "source": []
  }
 ],
 "metadata": {
  "kernelspec": {
   "display_name": "Python 3 (ipykernel)",
   "language": "python",
   "name": "python3"
  },
  "language_info": {
   "codemirror_mode": {
    "name": "ipython",
    "version": 3
   },
   "file_extension": ".py",
   "mimetype": "text/x-python",
   "name": "python",
   "nbconvert_exporter": "python",
   "pygments_lexer": "ipython3",
   "version": "3.10.2"
  }
 },
 "nbformat": 4,
 "nbformat_minor": 5
}
